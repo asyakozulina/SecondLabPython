{
  "cells": [
    {
      "cell_type": "markdown",
      "metadata": {
        "id": "p9wwt0LZzNvn"
      },
      "source": [
        "# I. Змінні та памʼять."
      ]
    },
    {
      "cell_type": "markdown",
      "metadata": {
        "id": "HTJrrm95xSV9"
      },
      "source": [
        "1. Створити змінні, що посилаються на два цілих числа, що однакові за значенням, де значення належить проміжку від -5 до 256. Перевірте, чи будуть ці змінні рівні тільки за значенням або ж ще будуть посилатися на один і той самий обʼєкт в памʼяті? Наведіть код та дайте текстову відповідь нижче."
      ]
    },
    {
      "cell_type": "code",
      "execution_count": null,
      "metadata": {
        "id": "TATni2vzayjG"
      },
      "outputs": [],
      "source": [
        "a = 100\n",
        "b = 100\n",
        "\n",
        "print(a == b)  # True, значення рівні\n",
        "print(a is b)  # True, обидві змінні посилаються на той самий об'єкт"
      ]
    },
    {
      "cell_type": "markdown",
      "metadata": {
        "id": "zfRG_o3WbRdg"
      },
      "source": [
        "*місце для текстової відповіді"
      ]
    },
    {
      "cell_type": "markdown",
      "metadata": {
        "id": "ISORzt6M3vAt"
      },
      "source": [
        "2. За допомогою якої функції можна перевірити належність змінної до вказаного типу даних (напр. чи змінна True посилається на значення булевого та цілочисленого типу)?"
      ]
    },
    {
      "cell_type": "code",
      "execution_count": null,
      "metadata": {
        "id": "9vL9CFaMbfyo"
      },
      "outputs": [],
      "source": [
        "x = True\n",
        "print(isinstance(x, bool))  # True\n",
        "print(isinstance(x, int))   # True, бо bool підтип int"
      ]
    },
    {
      "cell_type": "markdown",
      "metadata": {
        "id": "tRxugKAxwYLw"
      },
      "source": [
        "# II. Цілі числа та числа з рухомою комою"
      ]
    },
    {
      "cell_type": "markdown",
      "metadata": {
        "id": "NLHkgd5Gybc8"
      },
      "source": [
        "3. Створити дві змінні, що посилаються на будь-які ціле число та число з рухомою комою та продемонструвати такі арифметичні операції: додавання, віднімання, ділення, множення, ділення без залишку, ділення по модулю, приведення до ступеню. Всі результати операцій вивести на екран."
      ]
    },
    {
      "cell_type": "code",
      "execution_count": null,
      "metadata": {
        "id": "nb8u_3pjb2cA"
      },
      "outputs": [],
      "source": [
        "int_num = 10\n",
        "float_num = 5.5\n",
        "\n",
        "print(int_num + float_num)  # Додавання\n",
        "print(int_num - float_num)  # Віднімання\n",
        "print(int_num * float_num)  # Множення\n",
        "print(int_num / float_num)  # Ділення\n",
        "print(int_num // float_num) # Ділення без залишку\n",
        "print(int_num % float_num)  # Остача від ділення\n",
        "print(int_num ** 2)         # Піднесення до степеня"
      ]
    },
    {
      "cell_type": "markdown",
      "metadata": {
        "id": "1kBClKgPzZnC"
      },
      "source": [
        "4. Використовуючи змінні з вправи 3, продемонструйте механізм явного перетворення типів, де числа з рухомою комою перетворюються на цілі числа. Також визначте змінну, що посилається на значення булевого типу і спробуйте явно привести її до цілого числа."
      ]
    },
    {
      "cell_type": "code",
      "execution_count": null,
      "metadata": {
        "id": "TbqJbkeUcKsD"
      },
      "outputs": [],
      "source": [
        "print(int(float_num))  # Перетворення float -> int\n",
        "bool_var = True\n",
        "print(int(bool_var))    # True -> 1"
      ]
    },
    {
      "cell_type": "markdown",
      "metadata": {
        "id": "EVJ7AflwxrZi"
      },
      "source": [
        "# IІІ. Рядки (String)."
      ]
    },
    {
      "cell_type": "markdown",
      "metadata": {
        "id": "_s5ECzz9zE61"
      },
      "source": [
        "5. Створити пустий рядок двома різними способами."
      ]
    },
    {
      "cell_type": "code",
      "execution_count": null,
      "metadata": {
        "id": "fkZJHu9Scvc-"
      },
      "outputs": [],
      "source": [
        "empty_str1 = \"\"\n",
        "empty_str2 = str()"
      ]
    },
    {
      "cell_type": "markdown",
      "metadata": {
        "id": "4Bdn9J3MzLf_"
      },
      "source": [
        "6. Створити рядок з апострофом. Зробити його сирим. Вивести обидва рядка на екран."
      ]
    },
    {
      "cell_type": "code",
      "execution_count": null,
      "metadata": {
        "id": "ivji_hsmc0GH"
      },
      "outputs": [],
      "source": [
        "apostrophe_str = \"I'm learning Python\"\n",
        "raw_str = r\"I'm learning Python\"\n",
        "print(apostrophe_str)\n",
        "print(raw_str)"
      ]
    },
    {
      "cell_type": "markdown",
      "metadata": {
        "id": "bg_d8wM4z8dS"
      },
      "source": [
        "7. Створити змінну, що буде посилатися на Ваше прізвище латинкою. Створити форматований рядок, який буде мати вигляд \"My surname is ______\", де на місці нижніх підкреслень буде Ваше прізвище зі змінної."
      ]
    },
    {
      "cell_type": "code",
      "execution_count": null,
      "metadata": {
        "id": "kuxFgpWndACq"
      },
      "outputs": [],
      "source": [
        "surname = \"Kozulina\"\n",
        "formatted_str = f\"My surname is {surname}\"\n",
        "print(formatted_str)"
      ]
    },
    {
      "cell_type": "markdown",
      "metadata": {
        "id": "1Nc6RqvQ0hxU"
      },
      "source": [
        "8. Маючи рядок \"My dog is crazy.\" перетворити його на список [\"my\", \"dog\", \"is\", \"crazy\"]"
      ]
    },
    {
      "cell_type": "code",
      "execution_count": null,
      "metadata": {
        "id": "w1Ya4RqedUhw"
      },
      "outputs": [],
      "source": [
        "sentence = \"My dog is crazy.\"\n",
        "words = sentence.lower().split()\n",
        "print(words)"
      ]
    },
    {
      "cell_type": "markdown",
      "metadata": {
        "id": "GYVqN9uP1D4n"
      },
      "source": [
        "# IV. Робота зі списками."
      ]
    },
    {
      "cell_type": "markdown",
      "metadata": {
        "id": "7-DeDunw2sO-"
      },
      "source": [
        "9. Створити список двома різними за синтаксисом способами. За допомогою вбудованої функції обчисліть довжину одного з них."
      ]
    },
    {
      "cell_type": "code",
      "execution_count": null,
      "metadata": {
        "id": "zxg06Uuxdyoh"
      },
      "outputs": [],
      "source": [
        "list1 = [1, 2, 3, 4]\n",
        "list2 = list((5, 6, 7, 8))\n",
        "print(len(list1))  # Довжина першого списку"
      ]
    },
    {
      "cell_type": "markdown",
      "metadata": {
        "id": "8vmGUTjL22gI"
      },
      "source": [
        "10. Створіть два списка та за допомогою спеціального методу додайте другий з них в якості останнього елемента першого."
      ]
    },
    {
      "cell_type": "code",
      "execution_count": null,
      "metadata": {
        "id": "uHtjWYw7d7hm"
      },
      "outputs": [],
      "source": [
        "list_a = [1, 2, 3]\n",
        "list_b = [4, 5, 6]\n",
        "list_a.append(list_b)\n",
        "print(list_a)  # [1, 2, 3, [4, 5, 6]]"
      ]
    },
    {
      "cell_type": "markdown",
      "metadata": {
        "id": "JC3BkD-67_--"
      },
      "source": [
        "11. Створіть список, де елементами цього списку також є списки. Отримай перший елемент з останнього рядка та виведи значення на екран."
      ]
    },
    {
      "cell_type": "code",
      "execution_count": null,
      "metadata": {
        "id": "Kz2jZHsGeLlz"
      },
      "outputs": [],
      "source": [
        "matrix = [\n",
        "    [1, 2, 3],\n",
        "    [4, 5, 6],\n",
        "    [7, 8, 9]\n",
        "]\n",
        "print(matrix[-1][0])  # Перший елемент останнього списку (7)"
      ]
    },
    {
      "cell_type": "markdown",
      "metadata": {
        "id": "JA47PKTv8zFK"
      },
      "source": [
        "12. Створіть список з десяти елементів різного типу. Отримайте всі елементи, окрім двох перших та двох останніх та збережіть їх в новій змінній."
      ]
    },
    {
      "cell_type": "code",
      "execution_count": null,
      "metadata": {
        "id": "_rHdUR-ueP4-"
      },
      "outputs": [],
      "source": [
        "mixed_list = [10, \"hello\", 3.14, True, [1, 2, 3], {\"key\": \"value\"}, (5, 6), None, False, \"Python\"]\n",
        "\n",
        "# Отримання всіх елементів, окрім двох перших та двох останніх\n",
        "new_list = mixed_list[2:-2]\n",
        "\n",
        "# Виведення результату\n",
        "print(new_list)"
      ]
    },
    {
      "cell_type": "markdown",
      "metadata": {
        "id": "pCjR1dJb1Qbi"
      },
      "source": [
        "# V. Робота з кортежами."
      ]
    },
    {
      "cell_type": "markdown",
      "metadata": {
        "id": "fAZCxAX06R_k"
      },
      "source": [
        "14. Створити кортеж з один елементом."
      ]
    },
    {
      "cell_type": "code",
      "execution_count": null,
      "metadata": {
        "id": "H7d82WkQev3e"
      },
      "outputs": [],
      "source": [
        "single_element_tuple = (42,)\n",
        "\n",
        "# Виведення результату\n",
        "print(single_element_tuple)\n",
        "print(type(single_element_tuple))  # Перевіряємо, що це справді кортеж"
      ]
    },
    {
      "cell_type": "markdown",
      "metadata": {
        "id": "8LCtYcmI6w1M"
      },
      "source": [
        "15. Порівняйте список та кортеж. Назвіть схожості та відмінності, випадки використання."
      ]
    },
    {
      "attachments": {},
      "cell_type": "markdown",
      "metadata": {
        "id": "fUsN1Hnue0C6"
      },
      "source": [
        "*місце для текстової відповіді\n",
        "\n",
        "Послідовності – обидва типи даних є впорядкованими колекціями елементів.\n",
        "Доступ по індексу – можна звертатися до елементів за індексами (наприклад, list[0] або tuple[0]).\n",
        "Можливість ітерації – можна перебирати елементи у for-циклі.\n",
        "Зберігають будь-які типи даних – у списку та кортежі можуть бути числа, рядки, списки, інші кортежі тощо."
      ]
    },
    {
      "cell_type": "markdown",
      "metadata": {
        "id": "m0xrwFijAmDD"
      },
      "source": [
        "16. Створіть кортеж з 11ти елементів чисел з рухомою комою та отримайте кожен парний за індексом елемент в зворотньому порядку. Наприклад, маючи (1.2, 2.3, 3.3, 4.3, 5.3, 6.3, 7.3, 8.3, 9.3, 0.3), отримати (0.3, 8.3, 6.3, 4.3, 2.3). Результат збережіть в нову змінну та виведіть на екран."
      ]
    },
    {
      "cell_type": "code",
      "execution_count": null,
      "metadata": {
        "id": "p-5DAH6XfAGA"
      },
      "outputs": [],
      "source": [
        "float_tuple = (1.1, 2.2, 3.3, 4.4, 5.5, 6.6, 7.7, 8.8, 9.9, 10.1, 11.2)\n",
        "\n",
        "# Отримання кожного парного за індексом елемента у зворотному порядку\n",
        "reversed_even_index_elements = float_tuple[-2::-2]\n",
        "\n",
        "# Виведення результату\n",
        "print(reversed_even_index_elements)"
      ]
    },
    {
      "cell_type": "markdown",
      "metadata": {
        "id": "rW_I9dt3x6cW"
      },
      "source": [
        "# VI. Множини (Set)."
      ]
    },
    {
      "cell_type": "markdown",
      "metadata": {
        "id": "zNjRLHLw1Bgg"
      },
      "source": [
        "17. Створити множину без елементів. Після цого за допомогою методу додайте кілька різних елементів до множини. Чи множини є змінним типом даних?"
      ]
    },
    {
      "cell_type": "code",
      "execution_count": null,
      "metadata": {
        "id": "KOv7zc2Kfo4N"
      },
      "outputs": [],
      "source": [
        "empty_set = set()  # НЕ {}, бо це створює порожній словник\n",
        "\n",
        "# Додавання кількох різних елементів\n",
        "empty_set.add(10)\n",
        "empty_set.add(\"Python\")\n",
        "empty_set.add(3.14)\n",
        "empty_set.add(True)\n",
        "\n",
        "# Виведення множини\n",
        "print(empty_set)"
      ]
    },
    {
      "attachments": {},
      "cell_type": "markdown",
      "metadata": {
        "id": "vxS6dVYiftZQ"
      },
      "source": [
        "*місце для текстової відповіді\n",
        "Так, множини (set) є змінним типом даних. Ми можемо додавати (add()), видаляти (remove(), discard()) та змінювати їх. Однак елементи множини повинні бути незмінними (immutable), тобто ми не можемо додати список або іншу множину."
      ]
    },
    {
      "cell_type": "markdown",
      "metadata": {
        "id": "gHpT0Zw_1HEF"
      },
      "source": [
        "18. Створити множину, маючи список my_list = [1, 1, 2, 67, 67, 8, 9]. Пояснити, чому \"зникли\" деякі елементи."
      ]
    },
    {
      "cell_type": "code",
      "execution_count": null,
      "metadata": {
        "id": "qCN4uvJ_fxmu"
      },
      "outputs": [],
      "source": [
        "my_list = [1, 1, 2, 67, 67, 8, 9]\n",
        "my_set = set(my_list)\n",
        "\n",
        "# Виведення результату\n",
        "print(my_set)"
      ]
    },
    {
      "attachments": {},
      "cell_type": "markdown",
      "metadata": {
        "id": "tFNc1e20fyny"
      },
      "source": [
        "*місце для текстової відповіді\n",
        "Множина (set) — це неупорядкована колекція унікальних елементів.\n",
        "Коли ми створюємо множину з my_list, всі повторювані елементи автоматично видаляються, залишаючи тільки унікальні значення."
      ]
    },
    {
      "cell_type": "markdown",
      "metadata": {
        "id": "SRMkGizS1UwY"
      },
      "source": [
        "19. Створіть дві множини. Продемонстуйте над ними операції: обʼєднання, різниці, пересічі та симетричної різниці. Використовуйте методи, що не змінюють множини, а створюють нові."
      ]
    },
    {
      "cell_type": "code",
      "execution_count": null,
      "metadata": {
        "id": "h0T-VuDnf3Ri"
      },
      "outputs": [],
      "source": [
        "set1 = {1, 2, 3, 4, 5}\n",
        "set2 = {4, 5, 6, 7, 8}\n",
        "\n",
        "# Об'єднання (union)\n",
        "union_set = set1.union(set2)\n",
        "print(\"Об'єднання:\", union_set)  # {1, 2, 3, 4, 5, 6, 7, 8}\n",
        "\n",
        "# Різниця (difference)\n",
        "difference_set = set1.difference(set2)\n",
        "print(\"Різниця (set1 - set2):\", difference_set)  # {1, 2, 3}\n",
        "\n",
        "# Перетин (intersection)\n",
        "intersection_set = set1.intersection(set2)\n",
        "print(\"Перетин:\", intersection_set)  # {4, 5}\n",
        "\n",
        "# Симетрична різниця (symmetric_difference)\n",
        "symmetric_difference_set = set1.symmetric_difference(set2)\n",
        "print(\"Симетрична різниця:\", symmetric_difference_set)  # {1, 2, 3, 6, 7, 8}\n"
      ]
    },
    {
      "cell_type": "markdown",
      "metadata": {
        "id": "kWc8gkzTx7Ea"
      },
      "source": [
        "# VII. Словники (Dictionary)."
      ]
    },
    {
      "cell_type": "markdown",
      "metadata": {
        "id": "i5FLwj-B2ybQ"
      },
      "source": [
        "20. Створіть пустий словник. До нього додайте чотири пари елементів такі, щоб їхні ключі були різних типів. Чи може список бути ключем? Чому?"
      ]
    },
    {
      "cell_type": "code",
      "execution_count": null,
      "metadata": {
        "id": "hxgv3BzrgLAV"
      },
      "outputs": [],
      "source": [
        "my_dict = {}\n",
        "\n",
        "# Додавання 4 пар, де ключі різних типів\n",
        "my_dict[1] = \"Ціле число\"\n",
        "my_dict[\"name\"] = \"Рядок\"\n",
        "my_dict[3.14] = \"Число з рухомою комою\"\n",
        "my_dict[(2, 3)] = \"Кортеж\"\n",
        "\n",
        "# Виведення результату\n",
        "print(my_dict)\n"
      ]
    },
    {
      "attachments": {},
      "cell_type": "markdown",
      "metadata": {
        "id": "zwa7UVN-gR3m"
      },
      "source": [
        "*місце для текстової відповіді\n",
        "Ні, список (list) не може бути ключем у словнику, оскільки ключі повинні бути незмінними (immutable)."
      ]
    },
    {
      "cell_type": "markdown",
      "metadata": {
        "id": "WM_pMlJsgoNf"
      },
      "source": [
        "21. Створіть словник, де значенням в одній з пар теж буде словник, який теж має вкладений словник. Виведіть на екран значення, що міститься в словнику, що знаходиться на найнижчому рівні ієрархії вкладеності (найбільш внутрішній)."
      ]
    },
    {
      "cell_type": "code",
      "execution_count": null,
      "metadata": {
        "id": "60dlP7IHhAy4"
      },
      "outputs": [],
      "source": [
        "nested_dict = {\n",
        "    \"level_1\": {\n",
        "        \"level_2\": {\n",
        "            \"level_3\": {\n",
        "                \"target_key\": \"Шукане значення\"\n",
        "            }\n",
        "        }\n",
        "    }\n",
        "}\n",
        "\n",
        "# Отримання значення з найглибшого рівня\n",
        "deep_value = nested_dict[\"level_1\"][\"level_2\"][\"level_3\"][\"target_key\"]\n",
        "\n",
        "# Виведення результату\n",
        "print(deep_value)  # Шукане значення\n"
      ]
    },
    {
      "cell_type": "markdown",
      "metadata": {
        "id": "xOZP0hkx6cCr"
      },
      "source": [
        "# Вітаю! Ви велика(ий) молодець, що впоралась(вся). Похваліть себе та побалуйте чимось приємним. Я Вами пишаюся."
      ]
    }
  ],
  "metadata": {
    "colab": {
      "provenance": []
    },
    "kernelspec": {
      "display_name": "Python 3",
      "name": "python3"
    },
    "language_info": {
      "name": "python"
    }
  },
  "nbformat": 4,
  "nbformat_minor": 0
}
