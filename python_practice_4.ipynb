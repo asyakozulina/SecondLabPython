{
  "cells": [
    {
      "cell_type": "markdown",
      "metadata": {
        "id": "view-in-github",
        "colab_type": "text"
      },
      "source": [
        "<a href=\"https://colab.research.google.com/github/asyakozulina/SecondLabPython/blob/main/python_practice_4.ipynb\" target=\"_parent\"><img src=\"https://colab.research.google.com/assets/colab-badge.svg\" alt=\"Open In Colab\"/></a>"
      ]
    },
    {
      "cell_type": "markdown",
      "metadata": {
        "id": "kXpppdVm6wFy"
      },
      "source": [
        "# I. Functions. Arguments."
      ]
    },
    {
      "cell_type": "markdown",
      "metadata": {
        "id": "u_krJdlbAkVz"
      },
      "source": [
        "1. (5б) Назвіть основні 4 смислові  частини, з яких складається функція."
      ]
    },
    {
      "cell_type": "markdown",
      "metadata": {
        "id": "KKTrTXmHAptb"
      },
      "source": [
        "*місце для текстової відповіді"
      ]
    },
    {
      "cell_type": "markdown",
      "metadata": {
        "id": "ORM4PqJQAtDM"
      },
      "source": [
        "2. (3б) Визначте функцію, що приймає 2 аргументи та повертає результат ділення 1го аргумента на інший."
      ]
    },
    {
      "cell_type": "code",
      "execution_count": 5,
      "metadata": {
        "id": "EuDx-z8M6sLo"
      },
      "outputs": [],
      "source": [
        "# Task 2: divide two numbers\n",
        "def divide(a, b):\n",
        "    \"\"\"Return a / b.\"\"\"\n",
        "    return a / b"
      ]
    },
    {
      "cell_type": "markdown",
      "metadata": {
        "id": "5joQGQ-SAyMe"
      },
      "source": [
        "3. (2б) Викличте вище визначену функцію, де другий аргумент дорівнює 0."
      ]
    },
    {
      "cell_type": "code",
      "execution_count": 6,
      "metadata": {
        "id": "V5cBV1LOA3d-",
        "colab": {
          "base_uri": "https://localhost:8080/"
        },
        "outputId": "14b28137-0022-411c-8f89-7d77c2e98661"
      },
      "outputs": [
        {
          "output_type": "stream",
          "name": "stdout",
          "text": [
            "Error: division by zero\n"
          ]
        }
      ],
      "source": [
        "# Task 3: call divide with second arg 0 (will raise ZeroDivisionError)\n",
        "try:\n",
        "    divide(10, 0)\n",
        "except ZeroDivisionError as e:\n",
        "    print(f'Error: {e}')"
      ]
    },
    {
      "cell_type": "markdown",
      "metadata": {
        "id": "QyimWgW8A43-"
      },
      "source": [
        "4. (4б) Перевизначте функцію так, щоби у випадку ділення на 0 функція повертала None, а в решті випадків - результат розрахунків."
      ]
    },
    {
      "cell_type": "code",
      "execution_count": 7,
      "metadata": {
        "id": "7VIODtSjA8Ek",
        "colab": {
          "base_uri": "https://localhost:8080/"
        },
        "outputId": "3d251dbf-96b3-4d1b-c2f0-a751ef3c0b5b"
      },
      "outputs": [
        {
          "output_type": "stream",
          "name": "stdout",
          "text": [
            "safe_divide(10,2) = 5.0\n",
            "safe_divide(10,0) = None\n"
          ]
        }
      ],
      "source": [
        "# Task 4: safe divide\n",
        "\n",
        "def safe_divide(a, b):\n",
        "    \"\"\"Divide a by b.\n",
        "    Return None if b is zero.\"\"\"\n",
        "    return None if b == 0 else a / b\n",
        "\n",
        "print('safe_divide(10,2) =', safe_divide(10,2))\n",
        "print('safe_divide(10,0) =', safe_divide(10,0))"
      ]
    },
    {
      "cell_type": "markdown",
      "metadata": {
        "id": "Y8mN0GfkA81l"
      },
      "source": [
        "5. (5б) Визначте функцію, що віднімає одне число від іншого (підказка: це буде 2 аргументи функції). При чому, якщо не визначити, скільки саме має бути віднято від числа, за замовчуванням має відніматися 1. Викличте функцію, передаючи тільки один аргумент."
      ]
    },
    {
      "cell_type": "code",
      "execution_count": 8,
      "metadata": {
        "id": "vg1kxkdgBA50",
        "colab": {
          "base_uri": "https://localhost:8080/"
        },
        "outputId": "2d4c923c-91a1-42b3-e278-b4f338efb910"
      },
      "outputs": [
        {
          "output_type": "stream",
          "name": "stdout",
          "text": [
            "subtract(10) = 9\n"
          ]
        }
      ],
      "source": [
        "# Task 5: subtract function with default 1\n",
        "\n",
        "def subtract(number, subtrahend=1):\n",
        "    \"\"\"Return number - subtrahend (defaults to 1).\"\"\"\n",
        "    return number - subtrahend\n",
        "\n",
        "# call with single argument\n",
        "print('subtract(10) =', subtract(10))"
      ]
    },
    {
      "cell_type": "markdown",
      "metadata": {
        "id": "D3mwQGNOBBs4"
      },
      "source": [
        "6. (7б) Визначте функцію, яка приймає iterable (ітерабельний обʼєкт, напр. список), що складається з 7ми рядкових значень - назв погодних умов (напр. \"sunny\") за кожен день у тижні. Повертає функція словник, де ключами є рядки з погодними умовами, а значеннями - кількість разів, скільки дана погода була протягом тижня (напр. {'sunny': 1, ...}). Викличте цю функцію та виведіть результат її роботи на екран."
      ]
    },
    {
      "cell_type": "code",
      "execution_count": 9,
      "metadata": {
        "id": "OsWm-hKcBFyn",
        "colab": {
          "base_uri": "https://localhost:8080/"
        },
        "outputId": "2a8c90ad-1726-4620-a915-a64c1183d31e"
      },
      "outputs": [
        {
          "output_type": "stream",
          "name": "stdout",
          "text": [
            "{'sunny': 3, 'rainy': 2, 'cloudy': 1, 'snowy': 1}\n"
          ]
        }
      ],
      "source": [
        "# Task 6: weather summary function\n",
        "from collections import Counter\n",
        "\n",
        "def weather_summary(conditions):\n",
        "    \"\"\"Return a dict with counts of each weather condition in iterable.\"\"\"\n",
        "    return dict(Counter(conditions))\n",
        "\n",
        "week_weather = ['sunny', 'sunny', 'rainy', 'cloudy', 'sunny', 'rainy', 'snowy']\n",
        "print(weather_summary(week_weather))"
      ]
    },
    {
      "cell_type": "markdown",
      "metadata": {
        "id": "RMiCcdOsBKQT"
      },
      "source": [
        "7. (15б) Напишіть програму, яка б шукала необхідне число у впорядкованому списку цілочислених значень, де\n",
        "число має вводитись з консолі.\n",
        "власне алгоритм пошуку винесений в окрему функцію, яка повертає булеве значення (знайдено число - True, не знайдено - False).\n",
        "в залежності від результату функції, виведіть на екран повідомлення про успішний або ж неуспішний пошук.\n",
        "Зауваження: використовувати оператор in заборонено."
      ]
    },
    {
      "cell_type": "code",
      "execution_count": 10,
      "metadata": {
        "id": "UNCZg65OBOy-",
        "colab": {
          "base_uri": "https://localhost:8080/"
        },
        "outputId": "307c81d5-1be0-4818-cbba-72d92c647115"
      },
      "outputs": [
        {
          "output_type": "stream",
          "name": "stdout",
          "text": [
            "List: [0, 3, 6, 9, 12, 15, 18, 21, 24, 27, 30, 33, 36, 39, 42, 45, 48, 51, 54, 57, 60, 63, 66, 69, 72, 75, 78, 81, 84, 87, 90, 93, 96, 99]\n",
            "Index of 24: 8\n",
            "Index of 25: -1\n"
          ]
        }
      ],
      "source": [
        "# Task 7: binary search implementation\n",
        "\n",
        "def binary_search(sorted_list, target):\n",
        "    \"\"\"Return index of target in sorted_list or -1 if not found.\"\"\"\n",
        "    left, right = 0, len(sorted_list) - 1\n",
        "    while left <= right:\n",
        "        mid = (left + right) // 2\n",
        "        if sorted_list[mid] == target:\n",
        "            return mid\n",
        "        elif sorted_list[mid] < target:\n",
        "            left = mid + 1\n",
        "        else:\n",
        "            right = mid - 1\n",
        "    return -1\n",
        "\n",
        "numbers = list(range(0, 101, 3))  # sorted list of multiples of 3\n",
        "print('List:', numbers)\n",
        "print('Index of 24:', binary_search(numbers, 24))\n",
        "print('Index of 25:', binary_search(numbers, 25))"
      ]
    },
    {
      "cell_type": "markdown",
      "metadata": {
        "id": "Ae1n_OvLBTsy"
      },
      "source": [
        "# II. Lambda functions."
      ]
    },
    {
      "cell_type": "markdown",
      "metadata": {
        "id": "xaD_wSlaCWen"
      },
      "source": [
        "8. (4б) В яких випадках варто використовувати лямбда-функції?"
      ]
    },
    {
      "cell_type": "markdown",
      "metadata": {
        "id": "42MB6OoLCakR"
      },
      "source": [
        "Одноразовий «вбудований» вираз\n",
        "Коли потрібно швидко передати невелику функцію прямо «на місці» (у виклику sorted(), map(), filter(), reduce(), max(..., key=…), тощо) і ви її більше ніде не використовуватимете.\n",
        "Дуже проста логіка в один рядок\n",
        "Lambda повинна складатися з єдиного виразу без умов, циклів чи побічних ефектів. Якщо код потребує двох-трьох рядків, краще написати звичайну функцію def.\n",
        "Коли зайва назва лиш заважає\n",
        "Буває, що створення окремої іменованої функції засмічує простір імен і збиває з читання коду. Коротка lambda в такому випадку робить вираз компактним і зрозумілим.\n",
        "Для конфігурацій або фабрик функцій\n",
        "Іноді потрібно швидко сформувати «маленьку» функцію всередині іншої (наприклад, повернути кастомний обчислювач або замикання). Якщо вираз справді крихітний, lambda пасує.\n",
        "\n"
      ]
    },
    {
      "cell_type": "markdown",
      "metadata": {
        "id": "USrzrk7GCedk"
      },
      "source": [
        "9. (9б) Визначте список з рядками. Після цього визначте анонімну функцію для отримання першого символу у верхньому регістрі для кожного рядка списку.\n",
        "Підказка: використовуйте анонімну функцію в якості агрумента до вбудованої ф-ції, яка створена для застосування функцій над iterable обʼєктами. Результат виведіть на екран у вигляді кортежу."
      ]
    },
    {
      "cell_type": "code",
      "execution_count": 11,
      "metadata": {
        "id": "M8QWUsMlCjWH",
        "colab": {
          "base_uri": "https://localhost:8080/"
        },
        "outputId": "12bc66b9-0639-404d-c532-1da7dd64a5b4"
      },
      "outputs": [
        {
          "output_type": "stream",
          "name": "stdout",
          "text": [
            "('Apple', 'Banana', 'Cherry')\n"
          ]
        }
      ],
      "source": [
        "# Task 9: lambda with map\n",
        "strings = ['apple', 'banana', 'cherry']\n",
        "capitalize_first = lambda s: s[0].upper() + s[1:]\n",
        "result = tuple(map(capitalize_first, strings))\n",
        "print(result)"
      ]
    },
    {
      "cell_type": "markdown",
      "metadata": {
        "id": "9fyUhXOoCtGp"
      },
      "source": [
        "10. (10б) Визначте список з числовими значеннями (і цілими, і з рухомою комою). а) Відфільтруйте всі числа, які діляться націло на 3 за допомогою вбудованої функції та анонімної функції в якості аргумента). Збережіть результат у змінній, не приводяти явно до будь-якого типу. б) Використовуючи результат на кроці 12.а у якості аргументу, та за допомогою лямбда-функції в якості іншого аргументу до вбудованої функції, додайте до кожного елементу число 1 та опісля зведіть у квадрат. Остаточний результат приведіть явно до списку та виведіть на екран."
      ]
    },
    {
      "cell_type": "code",
      "execution_count": 12,
      "metadata": {
        "id": "exEx2_okCsql",
        "colab": {
          "base_uri": "https://localhost:8080/"
        },
        "outputId": "64cf5b9f-9055-4b3a-eb7c-dd58e0f46ce7"
      },
      "outputs": [
        {
          "output_type": "stream",
          "name": "stdout",
          "text": [
            "[1, 7, 0]\n"
          ]
        }
      ],
      "source": [
        "# Task 10: filter with lambda\n",
        "numbers = [1, 2.5, -3, 4.0, 7, 8.9, -2.2, 0]\n",
        "# залишаємо тільки невідʼємні цілі числа\n",
        "filtered = list(filter(lambda x: isinstance(x, int) and x >= 0, numbers))\n",
        "print(filtered)"
      ]
    },
    {
      "cell_type": "markdown",
      "metadata": {
        "id": "o_x8cG_WC7jp"
      },
      "source": [
        "# III. Decorators."
      ]
    },
    {
      "cell_type": "markdown",
      "metadata": {
        "id": "mhxS4-mfC8LQ"
      },
      "source": [
        "11. (11б) Визначте декоратор, який би виводив у консоль повідомлення про початок роботи і назву функції (напр. my_function._ _ name _ _), а після відпрацювання функції - повідомлення про закінчення роботи і назву функції, що задекорована."
      ]
    },
    {
      "cell_type": "code",
      "execution_count": 13,
      "metadata": {
        "id": "srd1ygWjDGhO"
      },
      "outputs": [],
      "source": [
        "# Task 11: decorator printing start & finish\n",
        "\n",
        "def notifier(func):\n",
        "    \"\"\"Decorator that prints before and after the wrapped function run.\"\"\"\n",
        "    from functools import wraps\n",
        "    @wraps(func)\n",
        "    def wrapper(*args, **kwargs):\n",
        "        print(f'→ Починаю {func.__name__}')\n",
        "        result = func(*args, **kwargs)\n",
        "        print(f'← Закінчив {func.__name__}')\n",
        "        return result\n",
        "    return wrapper"
      ]
    },
    {
      "cell_type": "markdown",
      "metadata": {
        "id": "rxGZwVBiDph3"
      },
      "source": [
        "12. (4б) Задекоруйте двома різними способами функції з завдання 4 та 5 декоратором із завдання 11. (**УВАГА**: не декоруйте функції двічі!)."
      ]
    },
    {
      "cell_type": "code",
      "execution_count": 14,
      "metadata": {
        "id": "06lj7eq_DwZe"
      },
      "outputs": [],
      "source": [
        "# Task 12: decorating functions in two ways\n",
        "\n",
        "@notifier\n",
        "def decorated_subtract(a, b=1):\n",
        "    return a - b\n",
        "\n",
        "# Second way: assign new reference\n",
        "safe_divide_notified = notifier(safe_divide)"
      ]
    },
    {
      "cell_type": "markdown",
      "metadata": {
        "id": "P0ep1urBDzf-"
      },
      "source": [
        "13. (2б) Викличте одну з задекорованих функцій і виведіть її результат на екран."
      ]
    },
    {
      "cell_type": "code",
      "execution_count": 15,
      "metadata": {
        "id": "1QvTw0ctD0S3",
        "colab": {
          "base_uri": "https://localhost:8080/"
        },
        "outputId": "537a793d-76f3-4ebf-be6b-f37a65428825"
      },
      "outputs": [
        {
          "output_type": "stream",
          "name": "stdout",
          "text": [
            "→ Починаю decorated_subtract\n",
            "← Закінчив decorated_subtract\n",
            "decorated_subtract(10,3) = 7\n",
            "→ Починаю safe_divide\n",
            "← Закінчив safe_divide\n",
            "safe_divide_notified(10, 2) = 5.0\n"
          ]
        }
      ],
      "source": [
        "# Task 13: call one decorated function and show result\n",
        "print('decorated_subtract(10,3) =', decorated_subtract(10,3))\n",
        "print('safe_divide_notified(10, 2) =', safe_divide_notified(10, 2))"
      ]
    },
    {
      "cell_type": "markdown",
      "metadata": {
        "id": "poECCpuoD2S9"
      },
      "source": [
        "# IV. Recursion."
      ]
    },
    {
      "cell_type": "markdown",
      "metadata": {
        "id": "DqkURfdsD7MY"
      },
      "source": [
        "14. (4б) Назвіть дві частини функції, які є обовʼязковими для того, щоб називати її рекурсивною."
      ]
    },
    {
      "cell_type": "markdown",
      "metadata": {
        "id": "HYW6ttIeIQIU"
      },
      "source": [
        "\n",
        "\n",
        "Базовий (граничний) випадок\n",
        "Умова, за якої рекурсивні виклики припиняються, і функція повертає «простий» результат без подальшого самозвернення.\n",
        "Рекурсивний виклик\n",
        "Виклик цієї ж функції всередині її тіла з «меншим» або спрощеним підзавданням, що поступово наближає розв’язання до базового випадку."
      ]
    },
    {
      "cell_type": "markdown",
      "metadata": {
        "id": "WYVt20UmEA35"
      },
      "source": [
        "15. (15б) Визначте функцію, яка рекурсивно реалізовує пошук числа у послідовності Фібоначчі за її індексом (нумерація починається з нуля). Наприклад, потрібно знайти перше число у послідовності, тоді функція прийматиме 0 у якості аргумента і повертатиме 1, якщо ж знаходити третє число (індекс 2) послідовності, то функція повертатиме 2, якщо ж знаходити десяте число (індекс 9), то функція повертатиме 55."
      ]
    },
    {
      "cell_type": "code",
      "execution_count": 16,
      "metadata": {
        "id": "xIMhp05AIpV_",
        "colab": {
          "base_uri": "https://localhost:8080/"
        },
        "outputId": "8249806e-a705-4e8e-b499-cb5dd922f06b"
      },
      "outputs": [
        {
          "output_type": "stream",
          "name": "stdout",
          "text": [
            "[0, 1, 1, 2, 3, 5, 8, 13, 21, 34]\n"
          ]
        }
      ],
      "source": [
        "# Task 15: recursive Fibonacci function\n",
        "\n",
        "def fibonacci(n):\n",
        "    \"\"\"Return n-th Fibonacci number (0-indexed).\"\"\"\n",
        "    if n < 0:\n",
        "        raise ValueError('n must be non‑negative')\n",
        "    if n in (0, 1):\n",
        "        return n\n",
        "    return fibonacci(n - 1) + fibonacci(n - 2)\n",
        "\n",
        "print([fibonacci(i) for i in range(10)])"
      ]
    },
    {
      "cell_type": "markdown",
      "metadata": {
        "id": "ytXC8n_4Ip0W"
      },
      "source": [
        "# Вітаю! Ви велика(ий) молодець, що впоралась(вся). Похваліть себе та побалуйте чимось приємним. Я Вами пишаюся."
      ]
    }
  ],
  "metadata": {
    "colab": {
      "provenance": [],
      "include_colab_link": true
    },
    "kernelspec": {
      "display_name": "Python 3",
      "name": "python3"
    },
    "language_info": {
      "name": "python"
    }
  },
  "nbformat": 4,
  "nbformat_minor": 0
}