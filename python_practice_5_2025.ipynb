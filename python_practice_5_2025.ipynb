{
  "cells": [
    {
      "cell_type": "markdown",
      "metadata": {
        "id": "view-in-github",
        "colab_type": "text"
      },
      "source": [
        "<a href=\"https://colab.research.google.com/github/asyakozulina/SecondLabPython/blob/main/python_practice_5_2025.ipynb\" target=\"_parent\"><img src=\"https://colab.research.google.com/assets/colab-badge.svg\" alt=\"Open In Colab\"/></a>"
      ]
    },
    {
      "cell_type": "markdown",
      "metadata": {
        "id": "5qV_sehzFCTp"
      },
      "source": [
        "# I. OOP"
      ]
    },
    {
      "cell_type": "markdown",
      "metadata": {
        "id": "tx_U_hOALyfg"
      },
      "source": [
        "1. (6б). Створіть клас Building, додайте три атрибути, один з яких має значення за замовчуванням та два методи на свій розсуд."
      ]
    },
    {
      "cell_type": "code",
      "execution_count": 1,
      "metadata": {
        "id": "-Vf895KaL88N"
      },
      "outputs": [],
      "source": [
        "# 1. Клас Building\n",
        "class Building:\n",
        "    \"\"\"Building with basic attributes and simple behaviour.\"\"\"\n",
        "\n",
        "    purpose = \"residential\"          # class‑level attribute\n",
        "\n",
        "    def __init__(self, address: str, floors: int, material: str = \"brick\"):\n",
        "        self.address = address       # public\n",
        "        self.floors = floors         # public\n",
        "        self.material = material     # has default\n",
        "\n",
        "    def description(self):\n",
        "        return (f\"{self.address}: {self.floors} floors, built of \"\n",
        "                f\"{self.material}, purpose – {self.purpose}.\")\n",
        "\n",
        "    def is_highrise(self):\n",
        "        return self.floors >= 10"
      ]
    },
    {
      "cell_type": "markdown",
      "metadata": {
        "id": "X_UlOMB0L93w"
      },
      "source": [
        "2. (2б). Створіть два обʼєкти цього класу, де один з обʼєктів створюється із дефолтним значенням атрибуту. На одному обʼєкті отримайте значення його атрибуту, а на іншому викличте один з його методів."
      ]
    },
    {
      "cell_type": "code",
      "execution_count": 2,
      "metadata": {
        "id": "7gBu0ESOMCpG",
        "colab": {
          "base_uri": "https://localhost:8080/"
        },
        "outputId": "af3c68be-b2fb-4fd9-bdeb-cb39cc95341a"
      },
      "outputs": [
        {
          "output_type": "stream",
          "name": "stdout",
          "text": [
            "Central Ave 1: 12 floors, built of concrete, purpose – residential.\n",
            "b2 is high‑rise: True\n"
          ]
        }
      ],
      "source": [
        "# 2. Створення двох об’єктів Building\n",
        "b1 = Building(\"Main St 10\", 5)\n",
        "b2 = Building(\"Central Ave 1\", 12, material=\"concrete\")\n",
        "\n",
        "# змінюємо атрибут\n",
        "b1.floors = 6\n",
        "\n",
        "# демонструємо методи\n",
        "print(b2.description())\n",
        "print(\"b2 is high‑rise:\", b2.is_highrise())"
      ]
    },
    {
      "cell_type": "markdown",
      "metadata": {
        "id": "HoqSCZt1MHn5"
      },
      "source": [
        "3. (5б). Створіть клас, де атрибути мають різні рівні доступу. Спробуйте отримати їхні значення та опишіть результати."
      ]
    },
    {
      "cell_type": "code",
      "execution_count": 3,
      "metadata": {
        "id": "r9b3vJxBMSPV",
        "colab": {
          "base_uri": "https://localhost:8080/"
        },
        "outputId": "17ccf3a1-9375-4ace-edd1-29bd553a1f38"
      },
      "outputs": [
        {
          "output_type": "stream",
          "name": "stdout",
          "text": [
            "public ok\n",
            "semi‑hidden\n",
            "Private attr error: 'SecretBox' object has no attribute '__private'\n",
            "very hidden\n"
          ]
        }
      ],
      "source": [
        "# 3. Клас із різними рівнями доступу\n",
        "class SecretBox:\n",
        "    def __init__(self):\n",
        "        self.public = \"public ok\"\n",
        "        self._protected = \"semi‑hidden\"\n",
        "        self.__private = \"very hidden\"\n",
        "\n",
        "box = SecretBox()\n",
        "print(box.public)          # accessible\n",
        "print(box._protected)      # possible but discouraged\n",
        "try:\n",
        "    print(box.__private)\n",
        "except AttributeError as e:\n",
        "    print(\"Private attr error:\", e)\n",
        "# name‑mangled access possible:\n",
        "print(box._SecretBox__private)"
      ]
    },
    {
      "cell_type": "markdown",
      "metadata": {
        "id": "5op2m2vgMSkZ"
      },
      "source": [
        "4. (7б). Як ви розумієте термін self? Для чого використовується метод __init __?"
      ]
    },
    {
      "cell_type": "markdown",
      "metadata": {
        "id": "DyiPqNRvMasx"
      },
      "source": [
        "self — це посилання на поточний екземпляр класу, яке автоматично передається в кожен метод об’єкта. Завдяки ньому методи можуть:\n",
        "\n",
        "звертатися до атрибутів саме цього об’єкта (self.attribute);\n",
        "викликати інші його методи (self.other_method());\n",
        "змінювати внутрішній стан екземпляра без сторонніх глобальних змінних.\n",
        "У Python ім’я self є лише загальноприйнятою домовленістю; теоретично можна використати будь-яке інше слово, але так код читається та очікувано сприймається всіма.\n",
        "\n",
        "__init__ — це спеціальний метод-конструктор, який викликається одразу після створення нового об’єкта класу (коли ви пишете obj = MyClass(...)). Його головні завдання:\n",
        "\n",
        "Ініціалізація стану\n",
        "Присвоїти початкові значення атрибутам екземпляра (через self.attr = …), щоб об’єкт був готовий до роботи.\n",
        "Валiдація аргументів\n",
        "Перевірити коректність переданих параметрів та за потреби згенерувати помилки.\n",
        "Початкові побічні дії\n",
        "Відкрити файли, встановити мережеві з’єднання, створити внутрішні структури даних тощо — усе, що потрібно один раз при народженні об’єкта."
      ]
    },
    {
      "cell_type": "markdown",
      "metadata": {
        "id": "-6X8EGfjMd2y"
      },
      "source": [
        "5. (9б). Створіть клас 3D-фігура без атрибутів, з методом get_volume для отримання об'єму фігури, що повертає 0 та __add __, який приймає self та other в якості аргументів, а повертає суму об'ємів 3d-фігур self та other."
      ]
    },
    {
      "cell_type": "code",
      "execution_count": 5,
      "metadata": {
        "id": "4rvO_wYUMaEr"
      },
      "outputs": [],
      "source": [
        "# 5. Базовий клас 3D‑фігури\n",
        "import math\n",
        "\n",
        "class Figure3D:\n",
        "    def get_volume(self):\n",
        "        raise NotImplementedError\n",
        "\n",
        "    def __add__(self, other):\n",
        "        if not isinstance(other, Figure3D):\n",
        "            return NotImplemented\n",
        "        return self.get_volume() + other.get_volume()"
      ]
    },
    {
      "cell_type": "markdown",
      "metadata": {
        "id": "SFcKnnv5Mo_z"
      },
      "source": [
        "6. (11б). Створіть 2 дочірніх класи від 3d-фігура: Циліндр та Куб, які мають атрибути, необхідні для розрахунку об'єму. Визначте метод get_volume в кожному з них так, щоби вони розраховували об'єм у залежності від формули для кожного типу фігури. Створіть обʼєкт класу Циліндр та обʼєкт класу Куб. Виконайте операцію суми за допомогою оператора + між ними, аби знайти сумарний об'єм."
      ]
    },
    {
      "cell_type": "code",
      "execution_count": 6,
      "metadata": {
        "id": "H3GVNr69Muf3",
        "colab": {
          "base_uri": "https://localhost:8080/"
        },
        "outputId": "46516bd9-9a44-47c2-abb7-71b4afc890d2"
      },
      "outputs": [
        {
          "output_type": "stream",
          "name": "stdout",
          "text": [
            "Cylinder volume: 125.66\n",
            "Cube volume: 27\n",
            "Sum volume (operator +): 152.66370614359172\n"
          ]
        }
      ],
      "source": [
        "# 6. Cylinder та Cube\n",
        "class Cylinder(Figure3D):\n",
        "    def __init__(self, radius: float, height: float):\n",
        "        self.radius, self.height = radius, height\n",
        "    def get_volume(self):\n",
        "        return math.pi * self.radius**2 * self.height\n",
        "\n",
        "class Cube(Figure3D):\n",
        "    def __init__(self, edge: float):\n",
        "        self.edge = edge\n",
        "    def get_volume(self):\n",
        "        return self.edge ** 3\n",
        "\n",
        "cyl = Cylinder(2, 10)\n",
        "cube = Cube(3)\n",
        "print(\"Cylinder volume:\", round(cyl.get_volume(), 2))\n",
        "print(\"Cube volume:\", cube.get_volume())\n",
        "print(\"Sum volume (operator +):\", cyl + cube)"
      ]
    },
    {
      "cell_type": "markdown",
      "metadata": {
        "id": "HCvR206YMvLK"
      },
      "source": [
        "7. (3б). Продемонструйте різницю між isinstance та issubclass."
      ]
    },
    {
      "cell_type": "code",
      "execution_count": 7,
      "metadata": {
        "id": "L_V1bBvDM0GN",
        "colab": {
          "base_uri": "https://localhost:8080/"
        },
        "outputId": "389ae6e0-8e03-4fc2-b2a0-4912f23608f0"
      },
      "outputs": [
        {
          "output_type": "stream",
          "name": "stdout",
          "text": [
            "cyl is instance of Figure3D: True\n",
            "Cube is subclass of Figure3D: True\n",
            "Cylinder class is instance of Figure3D: False\n",
            "Cylinder subclass of Cube: False\n"
          ]
        }
      ],
      "source": [
        "# 7. isinstance vs issubclass\n",
        "print(\"cyl is instance of Figure3D:\", isinstance(cyl, Figure3D))\n",
        "print(\"Cube is subclass of Figure3D:\", issubclass(Cube, Figure3D))\n",
        "print(\"Cylinder class is instance of Figure3D:\", isinstance(Cylinder, Figure3D))\n",
        "print(\"Cylinder subclass of Cube:\", issubclass(Cylinder, Cube))"
      ]
    },
    {
      "cell_type": "markdown",
      "metadata": {
        "id": "jjsaBZ-iM0Qq"
      },
      "source": [
        "8. (13б). Створіть клас EWallet з приватними атрибутами balance та id. Реалізуйте методи поповнення та зняття коштів, забезпечивши належну інкапсуляцію. Підказка: використовуйте декоратори property та setter."
      ]
    },
    {
      "cell_type": "code",
      "execution_count": 8,
      "metadata": {
        "id": "xCvZ7lh8M7YA",
        "colab": {
          "base_uri": "https://localhost:8080/"
        },
        "outputId": "6fe6bc76-d92c-415d-bf31-b238432cb860"
      },
      "outputs": [
        {
          "output_type": "stream",
          "name": "stdout",
          "text": [
            "Withdraw error: invalid amount\n",
            "Current balance: 75.0\n"
          ]
        }
      ],
      "source": [
        "# 8. Клас EWallet\n",
        "class EWallet:\n",
        "    def __init__(self, owner: str, balance: float = 0.0):\n",
        "        self.owner = owner\n",
        "        self.__balance = float(balance)  # private\n",
        "\n",
        "    @property\n",
        "    def balance(self):\n",
        "        return self.__balance\n",
        "\n",
        "    def deposit(self, amount: float):\n",
        "        if amount <= 0:\n",
        "            raise ValueError(\"amount must be positive\")\n",
        "        self.__balance += amount\n",
        "\n",
        "    def withdraw(self, amount: float):\n",
        "        if amount <= 0 or amount > self.__balance:\n",
        "            raise ValueError(\"invalid amount\")\n",
        "        self.__balance -= amount\n",
        "\n",
        "wallet = EWallet(\"Ann\", 50)\n",
        "wallet.deposit(25)\n",
        "try:\n",
        "    wallet.withdraw(100)\n",
        "except ValueError as e:\n",
        "    print(\"Withdraw error:\", e)\n",
        "print(\"Current balance:\", wallet.balance)"
      ]
    },
    {
      "cell_type": "markdown",
      "metadata": {
        "id": "tIzL2SJTM8ft"
      },
      "source": [
        "9. (11б). Створіть клас ShoppingCart, який містить список об'єктів типу Item. Реалізуйте методи для додавання айтемів, їх видалення та відображення списку айтемів."
      ]
    },
    {
      "cell_type": "code",
      "execution_count": 9,
      "metadata": {
        "id": "HWxfJKLtNAUZ",
        "colab": {
          "base_uri": "https://localhost:8080/"
        },
        "outputId": "f97fb1c8-852f-4b12-be67-06fbe69f4478"
      },
      "outputs": [
        {
          "output_type": "stream",
          "name": "stdout",
          "text": [
            "Item not in cart: Mouse\n",
            "Cart items: ['MacBook', 'Headphones']\n"
          ]
        }
      ],
      "source": [
        "# 9. ShoppingCart\n",
        "class ShoppingCart:\n",
        "    def __init__(self):\n",
        "        self._items = []\n",
        "    def add_item(self, item):\n",
        "        self._items.append(item)\n",
        "    def remove_item(self, item):\n",
        "        try:\n",
        "            self._items.remove(item)\n",
        "        except ValueError:\n",
        "            print(\"Item not in cart:\", item)\n",
        "    def show_items(self):\n",
        "        return self._items.copy()\n",
        "\n",
        "cart = ShoppingCart()\n",
        "cart.add_item(\"MacBook\")\n",
        "cart.add_item(\"Headphones\")\n",
        "cart.remove_item(\"Mouse\")\n",
        "print(\"Cart items:\", cart.show_items())"
      ]
    },
    {
      "cell_type": "markdown",
      "metadata": {
        "id": "lmV8pAwwNIqu"
      },
      "source": [
        "10. (13б). Створіть клас Vehicle з атрибутами brand (manufacturer) та production_age. Створіть ще один клас Engine з такими атрибутами, як type (ex. petrol) та size (volume, litres). Створіть клас Car, який успадковує обидва класи Vehicle та Engine. Продемонструйте використання множинної спадковості, створивши обʼєкт класу Car та отримавши mro для цього класу."
      ]
    },
    {
      "cell_type": "code",
      "execution_count": 10,
      "metadata": {
        "id": "R49grKlWNPeN",
        "colab": {
          "base_uri": "https://localhost:8080/"
        },
        "outputId": "6bb13282-d34e-4e0e-8261-d32b7dc99680"
      },
      "outputs": [
        {
          "output_type": "stream",
          "name": "stdout",
          "text": [
            "MRO of Car: [<class '__main__.Car'>, <class '__main__.Vehicle'>, <class 'object'>]\n"
          ]
        }
      ],
      "source": [
        "# 10. Vehicle → Car\n",
        "class Vehicle:\n",
        "    def __init__(self, brand, model, year, fuel_type, size):\n",
        "        self.brand, self.model, self.year = brand, model, year\n",
        "        self.fuel_type, self.size = fuel_type, size\n",
        "\n",
        "class Car(Vehicle):\n",
        "    pass\n",
        "\n",
        "my_car = Car(\"Tesla\", \"Model 3\", 2024, \"electric\", 0)\n",
        "print(\"MRO of Car:\", Car.mro())"
      ]
    },
    {
      "cell_type": "markdown",
      "metadata": {
        "id": "dIJyUiNBFG8G"
      },
      "source": [
        "# II. Iterator"
      ]
    },
    {
      "cell_type": "markdown",
      "metadata": {
        "id": "13vsm0NyKIzL"
      },
      "source": [
        "11. (4б). Визначте рядок(str) з 4ма різними за значенням символами. Створіть ітератор на основі цього рядка. Викличте 5 разів функцію next на ітераторі, 4ри перших з них огорніть у ф-цію print()."
      ]
    },
    {
      "cell_type": "code",
      "execution_count": 11,
      "metadata": {
        "id": "81ntabAkKuz-",
        "colab": {
          "base_uri": "https://localhost:8080/"
        },
        "outputId": "b8191b58-30e9-4a8e-bce8-5d8704f491da"
      },
      "outputs": [
        {
          "output_type": "stream",
          "name": "stdout",
          "text": [
            "W\n",
            "X\n",
            "Y\n",
            "Z\n"
          ]
        }
      ],
      "source": [
        "# 11. Iterator over string\n",
        "text = \"WXYZ\"\n",
        "it = iter(text)\n",
        "for _ in range(4):\n",
        "    print(next(it))"
      ]
    },
    {
      "cell_type": "markdown",
      "metadata": {
        "id": "aekWHGXOLRsO"
      },
      "source": [
        "А що якщо викликати цю ж функцію на рядку?"
      ]
    },
    {
      "cell_type": "code",
      "execution_count": 12,
      "metadata": {
        "id": "mxATGsErLV1i",
        "colab": {
          "base_uri": "https://localhost:8080/"
        },
        "outputId": "d4e9526e-8327-40db-dc04-47cde3630321"
      },
      "outputs": [
        {
          "output_type": "stream",
          "name": "stdout",
          "text": [
            "TypeError: 'str' object is not an iterator\n"
          ]
        }
      ],
      "source": [
        "# next() directly on a string raises TypeError\n",
        "try:\n",
        "    next(\"ABCD\")\n",
        "except TypeError as e:\n",
        "    print(\"TypeError:\", e)"
      ]
    },
    {
      "cell_type": "markdown",
      "metadata": {
        "id": "XwtMEopwJ4pH"
      },
      "source": [
        " 12. (5б). Опишіть своїми словами в одному реченні, як ви розумієте різницю між ітерабельними обʼєктами та ітераторами (можна на прикладі).\n",
        "\n",
        "> Додати блок цитати\n",
        "\n"
      ]
    },
    {
      "cell_type": "markdown",
      "metadata": {
        "id": "-sHrODc3KFn8"
      },
      "source": [
        "Ітерабельний об’єкт (наприклад, список [1, 2, 3]) лише вміє створювати ітератор через метод __iter__(), тоді як ітератор — це вже об’єкт, який зберігає свій поточний стан і видає елементи послідовно методом __next__()."
      ]
    },
    {
      "cell_type": "markdown",
      "metadata": {
        "id": "E9qJWmNbK8Gl"
      },
      "source": [
        "13. (11б). Створіть клас, що має визначений Iterator Protocol та при кожному виклику next повертає назву дня тижня, поки вони не вичерпаються. Зверніть увагу, що порядок має значення."
      ]
    },
    {
      "cell_type": "code",
      "execution_count": 13,
      "metadata": {
        "id": "cqx-g_RsLo6I",
        "colab": {
          "base_uri": "https://localhost:8080/"
        },
        "outputId": "a42239ac-2c61-45d2-de63-ce455f6de139"
      },
      "outputs": [
        {
          "output_type": "stream",
          "name": "stdout",
          "text": [
            "[1, 'a', 2, 'b', 3, 'c', 'd']\n"
          ]
        }
      ],
      "source": [
        "# 13. Custom iterator alternating two sequences\n",
        "class Alternating:\n",
        "    def __init__(self, a, b):\n",
        "        self.a = list(a)\n",
        "        self.b = list(b)\n",
        "        self.i = self.j = 0\n",
        "    def __iter__(self):\n",
        "        return self\n",
        "    def __next__(self):\n",
        "        if self.i >= len(self.a) and self.j >= len(self.b):\n",
        "            raise StopIteration\n",
        "        if (self.i <= self.j and self.i < len(self.a)) or self.j >= len(self.b):\n",
        "            val = self.a[self.i]\n",
        "            self.i += 1\n",
        "            return val\n",
        "        else:\n",
        "            val = self.b[self.j]\n",
        "            self.j += 1\n",
        "            return val\n",
        "\n",
        "alt = Alternating([1,2,3], ['a','b','c','d'])\n",
        "print(list(alt))"
      ]
    },
    {
      "cell_type": "markdown",
      "metadata": {
        "id": "Z3E3S_s1Fv7-"
      },
      "source": [
        "# Вітаю! Ви велика(ий) молодець, що впоралась(вся). Похваліть себе та побалуйте чимось приємним. Я Вами пишаюся."
      ]
    }
  ],
  "metadata": {
    "colab": {
      "provenance": [],
      "include_colab_link": true
    },
    "kernelspec": {
      "display_name": "Python 3",
      "name": "python3"
    },
    "language_info": {
      "name": "python"
    }
  },
  "nbformat": 4,
  "nbformat_minor": 0
}